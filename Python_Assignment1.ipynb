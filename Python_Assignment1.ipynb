{
 "cells": [
  {
   "cell_type": "markdown",
   "id": "7b1663e2-3760-4f88-9c32-fb5727401eef",
   "metadata": {},
   "source": [
    "# List_remove_append"
   ]
  },
  {
   "cell_type": "code",
   "execution_count": 10,
   "id": "797ef8d9-ac58-4217-9028-87b11e2ff2a8",
   "metadata": {},
   "outputs": [],
   "source": [
    "input_list=['SAS', 'R', 'PYTHON', 'SPSS']"
   ]
  },
  {
   "cell_type": "code",
   "execution_count": 13,
   "id": "fb0b2f95-0e0d-427d-97e7-ca34f97be272",
   "metadata": {},
   "outputs": [],
   "source": [
    "input_list[3] = \"SPARK\""
   ]
  },
  {
   "cell_type": "code",
   "execution_count": 14,
   "id": "0046a3ef-ae7f-475e-b590-142d2ca666cd",
   "metadata": {},
   "outputs": [
    {
     "name": "stdout",
     "output_type": "stream",
     "text": [
      "['SAS', 'R', 'PYTHON', 'SPARK']\n"
     ]
    }
   ],
   "source": [
    "print(input_list)"
   ]
  },
  {
   "cell_type": "markdown",
   "id": "a519353c-aebb-4028-b537-ef7d85a9b937",
   "metadata": {},
   "source": [
    "# String to list conversion"
   ]
  },
  {
   "cell_type": "code",
   "execution_count": 15,
   "id": "a99a01a4-8481-4e59-8789-05bcc2c157b5",
   "metadata": {},
   "outputs": [],
   "source": [
    "input_str = 'I love Data Science & Python'"
   ]
  },
  {
   "cell_type": "code",
   "execution_count": 16,
   "id": "fbcec026-5f12-4691-88e5-49a250074d32",
   "metadata": {},
   "outputs": [
    {
     "data": {
      "text/plain": [
       "['I love Data Science ', ' Python']"
      ]
     },
     "execution_count": 16,
     "metadata": {},
     "output_type": "execute_result"
    }
   ],
   "source": [
    "input_str.split('&')"
   ]
  },
  {
   "cell_type": "code",
   "execution_count": 30,
   "id": "f948cbad-2a57-4ab8-9178-c257c1a88b16",
   "metadata": {},
   "outputs": [],
   "source": [
    "list_input = ['Pythons syntax is easy to learn', 'Pythons syntax is very clear']"
   ]
  },
  {
   "cell_type": "code",
   "execution_count": 73,
   "id": "9efb57c3-a0cb-444a-8b2b-b1678d88afa5",
   "metadata": {},
   "outputs": [],
   "source": [
    "string_new = \"\"\n",
    "for i in list_input:\n",
    "    string_new += i"
   ]
  },
  {
   "cell_type": "code",
   "execution_count": 183,
   "id": "5df6f1e8-4aa8-4302-ad6a-bf28e3b7610c",
   "metadata": {},
   "outputs": [],
   "source": [
    "string_new = '&'.join(string_new)"
   ]
  },
  {
   "cell_type": "code",
   "execution_count": 184,
   "id": "7b4a9980-8335-4edb-889e-69d8f9b8dbb3",
   "metadata": {},
   "outputs": [
    {
     "data": {
      "text/plain": [
       "'P&&&y&&&t&&&h&&&o&&&n&&&s&&& &&&s&&&y&&&n&&&t&&&a&&&x&&& &&&i&&&s&&& &&&e&&&a&&&s&&&y&&& &&&t&&&o&&& &&&l&&&e&&&a&&&r&&&n&&&P&&&y&&&t&&&h&&&o&&&n&&&s&&& &&&s&&&y&&&n&&&t&&&a&&&x&&& &&&i&&&s&&& &&&v&&&e&&&r&&&y&&& &&&c&&&l&&&e&&&a&&&r'"
      ]
     },
     "execution_count": 184,
     "metadata": {},
     "output_type": "execute_result"
    }
   ],
   "source": [
    "string_new"
   ]
  },
  {
   "cell_type": "markdown",
   "id": "8cabbf3a-0431-4ea4-89a1-2f82194072a8",
   "metadata": {},
   "source": [
    "# List to string conversion"
   ]
  },
  {
   "cell_type": "code",
   "execution_count": 58,
   "id": "1119f48e-d594-43d4-8020-775f9522d46e",
   "metadata": {},
   "outputs": [],
   "source": [
    "listToStr = ' & '.join(map(str, list_input))"
   ]
  },
  {
   "cell_type": "code",
   "execution_count": 59,
   "id": "32242e87-6680-4c60-9424-167fcadaa2ca",
   "metadata": {},
   "outputs": [
    {
     "data": {
      "text/plain": [
       "'Pythons syntax is easy to learn & Pythons syntax is very clear'"
      ]
     },
     "execution_count": 59,
     "metadata": {},
     "output_type": "execute_result"
    }
   ],
   "source": [
    "listToStr"
   ]
  },
  {
   "cell_type": "markdown",
   "id": "2d9c59a0-a798-4f67-b90c-495ffd073155",
   "metadata": {},
   "source": [
    "# Nested List"
   ]
  },
  {
   "cell_type": "code",
   "execution_count": 75,
   "id": "7ac07c71-3830-4a42-b3b9-707aec843101",
   "metadata": {},
   "outputs": [],
   "source": [
    "input_list = [['SAS','R'],['Tableau','SQL'],['Python','Java']]"
   ]
  },
  {
   "cell_type": "code",
   "execution_count": 76,
   "id": "41416c2a-ee19-41e0-841a-961657c9620d",
   "metadata": {},
   "outputs": [
    {
     "data": {
      "text/plain": [
       "'Python'"
      ]
     },
     "execution_count": 76,
     "metadata": {},
     "output_type": "execute_result"
    }
   ],
   "source": [
    "input_list[2][0]"
   ]
  },
  {
   "cell_type": "markdown",
   "id": "177d9b5d-7ee7-4f29-916a-e1dadd6b566f",
   "metadata": {},
   "source": [
    "# String Pallindrom"
   ]
  },
  {
   "cell_type": "code",
   "execution_count": 177,
   "id": "df605dfd-056a-4903-bc92-855d1caee5c0",
   "metadata": {},
   "outputs": [],
   "source": [
    "s = 'ABCCBAA'\n",
    "y = 'MALAYALAM'"
   ]
  },
  {
   "cell_type": "code",
   "execution_count": 180,
   "id": "3bd92034-8724-4a21-aac0-4a76fa3bba64",
   "metadata": {},
   "outputs": [],
   "source": [
    "def ispald(s):\n",
    "    if y == y[::-1]:\n",
    "        print('is pallindrom : 1')\n",
    "    else:\n",
    "        print('is not pallindrom : 0')"
   ]
  },
  {
   "cell_type": "code",
   "execution_count": 181,
   "id": "3879f32c-c040-474c-968f-7eeb5a107a5b",
   "metadata": {},
   "outputs": [
    {
     "name": "stdout",
     "output_type": "stream",
     "text": [
      "is pallindrom : 1\n"
     ]
    }
   ],
   "source": [
    "ispald(y)"
   ]
  },
  {
   "cell_type": "markdown",
   "id": "f584ceb9-13c2-449d-9ddd-5cd484ebc7d0",
   "metadata": {},
   "source": [
    "# String formatting"
   ]
  },
  {
   "cell_type": "code",
   "execution_count": 85,
   "id": "4ee4fe15-ac7b-44a6-890b-6f3205bfdb08",
   "metadata": {},
   "outputs": [],
   "source": [
    "s = 'caloRie ConsuMed'"
   ]
  },
  {
   "cell_type": "code",
   "execution_count": 97,
   "id": "5c2e2474-204e-49c0-b43c-913eff8c7ab8",
   "metadata": {},
   "outputs": [],
   "source": [
    "s1 = s.split()"
   ]
  },
  {
   "cell_type": "code",
   "execution_count": 191,
   "id": "0be74818-1999-484a-9231-dc28a1e2f362",
   "metadata": {},
   "outputs": [
    {
     "data": {
      "text/plain": [
       "'calorie_consumed'"
      ]
     },
     "execution_count": 191,
     "metadata": {},
     "output_type": "execute_result"
    }
   ],
   "source": [
    "(s1[0] + '_' + s1[1]).lower()"
   ]
  },
  {
   "cell_type": "markdown",
   "id": "4dd94228-d08b-4273-b2c9-4f7e878221a5",
   "metadata": {},
   "source": [
    "# MCP"
   ]
  },
  {
   "cell_type": "code",
   "execution_count": 190,
   "id": "22023527-9042-4e64-8237-01ee9444700a",
   "metadata": {},
   "outputs": [
    {
     "data": {
      "text/plain": [
       "'love '"
      ]
     },
     "execution_count": 190,
     "metadata": {},
     "output_type": "execute_result"
    }
   ],
   "source": [
    "S = 'i love Python'\n",
    "S[-11:--7], S[2:6]"
   ]
  },
  {
   "cell_type": "code",
   "execution_count": 192,
   "id": "307c66ea-c3af-4699-a9ee-6333fc3ce6d1",
   "metadata": {},
   "outputs": [
    {
     "data": {
      "text/plain": [
       "81"
      ]
     },
     "execution_count": 192,
     "metadata": {},
     "output_type": "execute_result"
    }
   ],
   "source": [
    "3*3**3"
   ]
  },
  {
   "cell_type": "code",
   "execution_count": 107,
   "id": "48f2cbf3-067b-4d9f-bf59-28feab9fd7f7",
   "metadata": {},
   "outputs": [
    {
     "data": {
      "text/plain": [
       "1"
      ]
     },
     "execution_count": 107,
     "metadata": {},
     "output_type": "execute_result"
    }
   ],
   "source": [
    "((500//7) % 5) ** 3"
   ]
  },
  {
   "cell_type": "code",
   "execution_count": 195,
   "id": "c174b6e2-f22c-4fb1-aafd-d5e99b984e91",
   "metadata": {},
   "outputs": [],
   "source": [
    "T = (3, 5, 7, 11,12)"
   ]
  },
  {
   "cell_type": "code",
   "execution_count": 196,
   "id": "5844f4e5-e491-4ecd-96a7-34ab9cb06573",
   "metadata": {},
   "outputs": [
    {
     "ename": "AttributeError",
     "evalue": "'tuple' object has no attribute 'append'",
     "output_type": "error",
     "traceback": [
      "\u001b[0;31m---------------------------------------------------------------------------\u001b[0m",
      "\u001b[0;31mAttributeError\u001b[0m                            Traceback (most recent call last)",
      "\u001b[0;32m<ipython-input-196-073c8dc16c52>\u001b[0m in \u001b[0;36m<module>\u001b[0;34m\u001b[0m\n\u001b[0;32m----> 1\u001b[0;31m \u001b[0mT\u001b[0m\u001b[0;34m.\u001b[0m\u001b[0mappend\u001b[0m\u001b[0;34m(\u001b[0m\u001b[0;36m9\u001b[0m\u001b[0;34m)\u001b[0m\u001b[0;34m\u001b[0m\u001b[0;34m\u001b[0m\u001b[0m\n\u001b[0m",
      "\u001b[0;31mAttributeError\u001b[0m: 'tuple' object has no attribute 'append'"
     ]
    }
   ],
   "source": [
    "T.append(9)"
   ]
  },
  {
   "cell_type": "code",
   "execution_count": 197,
   "id": "27263cc1-0742-45ff-aebf-0c69bb5b9901",
   "metadata": {},
   "outputs": [
    {
     "data": {
      "text/plain": [
       "(3, 5, 7, 11, 12)"
      ]
     },
     "execution_count": 197,
     "metadata": {},
     "output_type": "execute_result"
    }
   ],
   "source": [
    "T"
   ]
  },
  {
   "cell_type": "code",
   "execution_count": 203,
   "id": "f6357db8-3be6-4baa-b662-89667551a10e",
   "metadata": {},
   "outputs": [],
   "source": [
    "i = [32,34,12,27,33]"
   ]
  },
  {
   "cell_type": "code",
   "execution_count": 204,
   "id": "fb7cbd6c-0870-42f6-8fa1-ad0a8b277a43",
   "metadata": {},
   "outputs": [],
   "source": [
    "i.append([14,19])"
   ]
  },
  {
   "cell_type": "code",
   "execution_count": 206,
   "id": "06821ea4-f36b-4b65-9707-2a88300fd1ed",
   "metadata": {},
   "outputs": [
    {
     "name": "stdout",
     "output_type": "stream",
     "text": [
      "6\n"
     ]
    }
   ],
   "source": [
    "print(len(i))"
   ]
  },
  {
   "cell_type": "code",
   "execution_count": 115,
   "id": "e56b7529-01c6-4598-aee9-1f06a02b570b",
   "metadata": {},
   "outputs": [],
   "source": [
    "set1 = {1,2,3,3}"
   ]
  },
  {
   "cell_type": "code",
   "execution_count": 116,
   "id": "793afbf5-a9aa-46be-a9ee-370d9a646031",
   "metadata": {},
   "outputs": [
    {
     "data": {
      "text/plain": [
       "set"
      ]
     },
     "execution_count": 116,
     "metadata": {},
     "output_type": "execute_result"
    }
   ],
   "source": [
    "type(set1)"
   ]
  },
  {
   "cell_type": "code",
   "execution_count": 118,
   "id": "b2f24fcf-b1b7-46c2-a8f8-e1857cf36b0f",
   "metadata": {},
   "outputs": [
    {
     "ename": "TypeError",
     "evalue": "'set' object does not support item assignment",
     "output_type": "error",
     "traceback": [
      "\u001b[0;31m---------------------------------------------------------------------------\u001b[0m",
      "\u001b[0;31mTypeError\u001b[0m                                 Traceback (most recent call last)",
      "\u001b[0;32m<ipython-input-118-b275e8a2a053>\u001b[0m in \u001b[0;36m<module>\u001b[0;34m\u001b[0m\n\u001b[0;32m----> 1\u001b[0;31m \u001b[0mset1\u001b[0m\u001b[0;34m[\u001b[0m\u001b[0;36m3\u001b[0m\u001b[0;34m]\u001b[0m \u001b[0;34m=\u001b[0m \u001b[0;36m2\u001b[0m\u001b[0;34m\u001b[0m\u001b[0;34m\u001b[0m\u001b[0m\n\u001b[0m",
      "\u001b[0;31mTypeError\u001b[0m: 'set' object does not support item assignment"
     ]
    }
   ],
   "source": [
    "set1[3] = 2"
   ]
  },
  {
   "cell_type": "code",
   "execution_count": 119,
   "id": "7657ff40-8295-44e7-bba0-e9832ea8a723",
   "metadata": {},
   "outputs": [],
   "source": [
    "D = {1:['Raj',22], 2:['Simiran', 21], 3:['Rahul',40]}"
   ]
  },
  {
   "cell_type": "code",
   "execution_count": 207,
   "id": "ccb50832-d7f4-4dd1-b248-5a1e9448390e",
   "metadata": {},
   "outputs": [
    {
     "name": "stdout",
     "output_type": "stream",
     "text": [
      "1\n",
      "2\n",
      "3\n"
     ]
    }
   ],
   "source": [
    "for val in D:\n",
    "    print(val)"
   ]
  },
  {
   "cell_type": "code",
   "execution_count": 145,
   "id": "f9f82b84-af1e-4180-8db3-27ced8e43625",
   "metadata": {},
   "outputs": [],
   "source": [
    "a = range(10,1,-1)"
   ]
  },
  {
   "cell_type": "code",
   "execution_count": 163,
   "id": "559b21c3-a341-45da-98a8-009c5a5385cd",
   "metadata": {},
   "outputs": [],
   "source": [
    "list4 = []\n",
    "for i in a:\n",
    "    list4.append(i)"
   ]
  },
  {
   "cell_type": "code",
   "execution_count": 164,
   "id": "de5ddbc7-cd29-473f-b1cf-0175de48816d",
   "metadata": {},
   "outputs": [
    {
     "data": {
      "text/plain": [
       "[10, 9, 8, 7, 6, 5, 4, 3, 2]"
      ]
     },
     "execution_count": 164,
     "metadata": {},
     "output_type": "execute_result"
    }
   ],
   "source": [
    "list4"
   ]
  },
  {
   "cell_type": "code",
   "execution_count": 162,
   "id": "b7f4d9da-285c-4836-b929-ad6f04b3fb0b",
   "metadata": {},
   "outputs": [
    {
     "name": "stdout",
     "output_type": "stream",
     "text": [
      "<map object at 0x7f86909e5700>\n"
     ]
    }
   ],
   "source": [
    "print(list2)"
   ]
  },
  {
   "cell_type": "code",
   "execution_count": 165,
   "id": "7818f4f4-47be-44d3-bbe4-6813dfdda810",
   "metadata": {},
   "outputs": [],
   "source": [
    "paragraph = \"comprehension equivalent\""
   ]
  },
  {
   "cell_type": "code",
   "execution_count": 166,
   "id": "7d0eb610-d9f1-4b31-90ea-29cd5d4398b3",
   "metadata": {},
   "outputs": [],
   "source": [
    "single_word_list = []\n",
    "for sentence in paragraph:\n",
    "    for word in sentence.split():\n",
    "        single_word_list.append(word)"
   ]
  },
  {
   "cell_type": "code",
   "execution_count": 167,
   "id": "a52d2758-acb4-47e3-956e-5808623df7a6",
   "metadata": {},
   "outputs": [
    {
     "data": {
      "text/plain": [
       "['c',\n",
       " 'o',\n",
       " 'm',\n",
       " 'p',\n",
       " 'r',\n",
       " 'e',\n",
       " 'h',\n",
       " 'e',\n",
       " 'n',\n",
       " 's',\n",
       " 'i',\n",
       " 'o',\n",
       " 'n',\n",
       " 'e',\n",
       " 'q',\n",
       " 'u',\n",
       " 'i',\n",
       " 'v',\n",
       " 'a',\n",
       " 'l',\n",
       " 'e',\n",
       " 'n',\n",
       " 't']"
      ]
     },
     "execution_count": 167,
     "metadata": {},
     "output_type": "execute_result"
    }
   ],
   "source": [
    "single_word_list"
   ]
  },
  {
   "cell_type": "code",
   "execution_count": 168,
   "id": "21d469f6-16b8-4d06-b2b5-dd8fbf6bbc26",
   "metadata": {},
   "outputs": [
    {
     "data": {
      "text/plain": [
       "['c',\n",
       " 'o',\n",
       " 'm',\n",
       " 'p',\n",
       " 'r',\n",
       " 'e',\n",
       " 'h',\n",
       " 'e',\n",
       " 'n',\n",
       " 's',\n",
       " 'i',\n",
       " 'o',\n",
       " 'n',\n",
       " 'e',\n",
       " 'q',\n",
       " 'u',\n",
       " 'i',\n",
       " 'v',\n",
       " 'a',\n",
       " 'l',\n",
       " 'e',\n",
       " 'n',\n",
       " 't']"
      ]
     },
     "execution_count": 168,
     "metadata": {},
     "output_type": "execute_result"
    }
   ],
   "source": [
    "[word for sentence in paragraph for word in sentence.split()]"
   ]
  },
  {
   "cell_type": "code",
   "execution_count": null,
   "id": "2cb78fcc-c3d8-40ec-95bd-2384fecbf0f5",
   "metadata": {},
   "outputs": [],
   "source": []
  }
 ],
 "metadata": {
  "kernelspec": {
   "display_name": "Python 3",
   "language": "python",
   "name": "python3"
  },
  "language_info": {
   "codemirror_mode": {
    "name": "ipython",
    "version": 3
   },
   "file_extension": ".py",
   "mimetype": "text/x-python",
   "name": "python",
   "nbconvert_exporter": "python",
   "pygments_lexer": "ipython3",
   "version": "3.8.8"
  }
 },
 "nbformat": 4,
 "nbformat_minor": 5
}
